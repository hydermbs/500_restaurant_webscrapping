{
 "cells": [
  {
   "cell_type": "code",
   "execution_count": 90,
   "metadata": {},
   "outputs": [],
   "source": [
    "import ssl\n",
    "context = ssl._create_unverified_context()"
   ]
  },
  {
   "cell_type": "code",
   "execution_count": 91,
   "metadata": {},
   "outputs": [],
   "source": [
    "#import essential libraries\n",
    "import requests\n",
    "from bs4 import BeautifulSoup as bs\n",
    "from urllib.request import urlopen as ureq\n",
    "import logging\n",
    "import pandas as pd"
   ]
  },
  {
   "cell_type": "code",
   "execution_count": 92,
   "metadata": {},
   "outputs": [
    {
     "data": {
      "text/plain": [
       "'https://www.kayak.com/London.28501.restaurantlist.ksp'"
      ]
     },
     "execution_count": 92,
     "metadata": {},
     "output_type": "execute_result"
    }
   ],
   "source": [
    "#Provided the Base URL\n",
    "rest_url = \"https://www.kayak.com/London.28501.restaurantlist.ksp\"\n",
    "rest_url"
   ]
  },
  {
   "cell_type": "code",
   "execution_count": 93,
   "metadata": {},
   "outputs": [],
   "source": [
    "#request and read URL\n",
    "url_client = ureq(rest_url,context=context)\n",
    "rest_card = url_client.read()\n",
    "#Parse and Clean HTML\n",
    "rest_html = bs(rest_card,'html.parser')"
   ]
  },
  {
   "cell_type": "code",
   "execution_count": 80,
   "metadata": {},
   "outputs": [],
   "source": [
    "#Parsed a big box to get url of sub pages, also indexed it upto 500\n",
    "big_box = rest_html.findAll(\"li\", {\"class\":\"col _icz _iha _iaS _id7 _iaU _irF _iaV _irG _FE _jSU _iad _iae _qV _h-- _iaa _iaW _iaX _icu _icv _icw _icx _ics _y1 _ict _h-8 _ize _ial _ii0 _ii2 _iir _iaj\"})\n",
    "big_box = big_box[0:500]"
   ]
  },
  {
   "cell_type": "code",
   "execution_count": 88,
   "metadata": {},
   "outputs": [],
   "source": [
    "#Created an empty list to store the data\n",
    "rest_data = []\n",
    "#run a Loop to open the links from the first page\n",
    "for i in big_box:\n",
    "  rest_link=\"https://www.kayak.com\"+i.a['href']\n",
    "  rest_request = requests.get(rest_link)\n",
    "  rest_details = bs(rest_request.text,'html.parser')\n",
    "  #Fetched the name of restaurants\n",
    "  rest_name = rest_details.findAll(\"h1\",{\"class\":\"_B4 _FI _FL _FK _igH _ial _idA _iQh _iaj\"})[0].text\n",
    "  #created a detail box to itterate the data from same class\n",
    "  detail_box = rest_details.findAll(\"td\",{\"class\":\"head _h-2 _ial _jgc _ij1 _iQh _iaj _Ap\"})\n",
    "  for j in detail_box:\n",
    "    if j.text == \"Cuisines\":\n",
    "       cusine = j.find_next_sibling(\"td\").text\n",
    "    if j.text == \"Phone number\":\n",
    "      phone = j.find_next_sibling(\"td\").text\n",
    "    if j.text == \"Website\":\n",
    "      website = j.find_next_sibling(\"td\").a['href']\n",
    "    if j.text ==\"Location\":\n",
    "      location= j.find_next_sibling (\"td\").text\n",
    "    if j.text ==\"Payment options\":\n",
    "      payment_option = j.find_next_sibling(\"td\").text\n",
    "    if j.text == \"Dining style\":\n",
    "      d_style = j.find_next_sibling(\"td\").text\n",
    "      #stored the data in dictionary\n",
    "    data = {\"Name\":rest_name,\n",
    "          \"Cusines\":cusine,\n",
    "          \"Dining_style\":d_style,\n",
    "          \"Phone number\":phone,\n",
    "          \"Website\": website,\n",
    "          \"Location\":location,\n",
    "          \"Payment Options\":payment_option,    \n",
    "    }\n",
    "    #appended the data in list\n",
    "  rest_data.append(data)"
   ]
  },
  {
   "cell_type": "code",
   "execution_count": 89,
   "metadata": {},
   "outputs": [],
   "source": [
    "#convert dictionary into Dataframe and extracted the CSV\n",
    "df = pd.DataFrame(rest_data)\n",
    "df.to_csv(\"rest_data.csv\")"
   ]
  }
 ],
 "metadata": {
  "kernelspec": {
   "display_name": "Python 3",
   "language": "python",
   "name": "python3"
  },
  "language_info": {
   "codemirror_mode": {
    "name": "ipython",
    "version": 3
   },
   "file_extension": ".py",
   "mimetype": "text/x-python",
   "name": "python",
   "nbconvert_exporter": "python",
   "pygments_lexer": "ipython3",
   "version": "3.12.1"
  }
 },
 "nbformat": 4,
 "nbformat_minor": 2
}
